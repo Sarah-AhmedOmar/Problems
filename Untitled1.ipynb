{
  "nbformat": 4,
  "nbformat_minor": 0,
  "metadata": {
    "colab": {
      "provenance": [],
      "authorship_tag": "ABX9TyPmoajBdO1CkKOR4BorysgI",
      "include_colab_link": true
    },
    "kernelspec": {
      "name": "python3",
      "display_name": "Python 3"
    },
    "language_info": {
      "name": "python"
    }
  },
  "cells": [
    {
      "cell_type": "markdown",
      "metadata": {
        "id": "view-in-github",
        "colab_type": "text"
      },
      "source": [
        "<a href=\"https://colab.research.google.com/github/Sarah-AhmedOmar/Problems/blob/main/Untitled1.ipynb\" target=\"_parent\"><img src=\"https://colab.research.google.com/assets/colab-badge.svg\" alt=\"Open In Colab\"/></a>"
      ]
    },
    {
      "cell_type": "code",
      "execution_count": null,
      "metadata": {
        "id": "UqwZ6ONf8pIy"
      },
      "outputs": [],
      "source": [
        "import json"
      ]
    },
    {
      "cell_type": "code",
      "source": [
        "with open('image1.txt', 'r') as file:\n",
        "    txt_contents = file.read()"
      ],
      "metadata": {
        "id": "V10Lw8vN8qoT"
      },
      "execution_count": null,
      "outputs": []
    },
    {
      "cell_type": "code",
      "source": [
        "data = []\n",
        "for line in txt_contents.splitlines():\n",
        "    values = line.split(',')\n",
        "    data.append(values)"
      ],
      "metadata": {
        "id": "xabWVg5m8xx7"
      },
      "execution_count": null,
      "outputs": []
    },
    {
      "cell_type": "code",
      "source": [
        "json_string = json.dumps(data)"
      ],
      "metadata": {
        "id": "IZGsYRlZ8-Q6"
      },
      "execution_count": null,
      "outputs": []
    },
    {
      "cell_type": "code",
      "source": [
        "with open('image1.json', 'w') as file:\n",
        "    file.write(json_string)"
      ],
      "metadata": {
        "id": "n8g34dsm8_QA"
      },
      "execution_count": null,
      "outputs": []
    }
  ]
}