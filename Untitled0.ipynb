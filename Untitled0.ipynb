{
  "nbformat": 4,
  "nbformat_minor": 0,
  "metadata": {
    "colab": {
      "provenance": [],
      "authorship_tag": "ABX9TyMoTtfAyb5De4dd8PJuWkmL",
      "include_colab_link": true
    },
    "kernelspec": {
      "name": "python3",
      "display_name": "Python 3"
    },
    "language_info": {
      "name": "python"
    }
  },
  "cells": [
    {
      "cell_type": "markdown",
      "metadata": {
        "id": "view-in-github",
        "colab_type": "text"
      },
      "source": [
        "<a href=\"https://colab.research.google.com/github/Sarah-AhmedOmar/Problems/blob/main/Untitled0.ipynb\" target=\"_parent\"><img src=\"https://colab.research.google.com/assets/colab-badge.svg\" alt=\"Open In Colab\"/></a>"
      ]
    },
    {
      "cell_type": "code",
      "execution_count": null,
      "metadata": {
        "id": "amnbCnbTfZeT"
      },
      "outputs": [],
      "source": [
        "import os\n",
        "import shutil\n",
        "import csv"
      ]
    },
    {
      "cell_type": "code",
      "source": [
        "source_folder = \"C:\\Users\\HP\\Downloads\"\n",
        "destination_folder = \"C:\\Users\\HP\\Downloads\\dairies\\dairies\\Arla-Ecological-Medium-Fat-Milk\"\n",
        "csv_file = \"C:\\Users\\HP\\Downloads.csv\""
      ],
      "metadata": {
        "id": "-7jZbfPXujCr"
      },
      "execution_count": null,
      "outputs": []
    },
    {
      "cell_type": "code",
      "source": [
        "for root, dirs, files in os. walk(source_folder):\n",
        "    for file in files:\n",
        "        if file.endswith(\".jpg\") or file.endswith(\".png\"):\n",
        "            # Extract image details\n",
        "            image_path = os.path.join(root, file)\n",
        "            image_name = file.split(\"-\", 1)[-1]  # Discard prefix\n",
        "            image_size = os.path.getsize(image_path)\n",
        "            image_modification_date = os.path.getmtime(image_path)"
      ],
      "metadata": {
        "id": "b10KYZhzuogG"
      },
      "execution_count": null,
      "outputs": []
    },
    {
      "cell_type": "code",
      "source": [
        " destination_path = os.path.join(destination_folder, image_name)\n",
        "            shutil.copy2(image_path, destination_path)"
      ],
      "metadata": {
        "id": "WB7h4wjtuv1W"
      },
      "execution_count": null,
      "outputs": []
    },
    {
      "cell_type": "code",
      "source": [
        "with open(csv_file, mode='a', newline='') as file:\n",
        "                writer = csv.writer(file)\n",
        "                writer.writerow([image_name, image_size, image_modification_date])"
      ],
      "metadata": {
        "id": "HxehuZN0u1mi"
      },
      "execution_count": null,
      "outputs": []
    },
    {
      "cell_type": "code",
      "source": [
        "print(\"Extraction and copying completed.\")"
      ],
      "metadata": {
        "id": "l0VO_nr6u6DK"
      },
      "execution_count": null,
      "outputs": []
    }
  ]
}